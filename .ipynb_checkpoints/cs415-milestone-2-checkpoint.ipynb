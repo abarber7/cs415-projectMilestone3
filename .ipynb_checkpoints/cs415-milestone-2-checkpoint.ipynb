{
 "cells": [
  {
   "cell_type": "markdown",
   "metadata": {},
   "source": [
    "# cs415 Milestone 2\n",
    "\n",
    "Downloaded the YAGO 4.5 dataset. (https://yago-knowledge.org/data/yago4.5/)"
   ]
  },
  {
   "cell_type": "code",
   "execution_count": null,
   "metadata": {
    "vscode": {
     "languageId": "plaintext"
    }
   },
   "outputs": [],
   "source": [
    "pip install rdflib"
   ]
  },
  {
   "cell_type": "code",
   "execution_count": null,
   "metadata": {
    "vscode": {
     "languageId": "plaintext"
    }
   },
   "outputs": [],
   "source": [
    "pip install rdflib-neo4j"
   ]
  },
  {
   "cell_type": "code",
   "execution_count": null,
   "metadata": {
    "vscode": {
     "languageId": "plaintext"
    }
   },
   "outputs": [],
   "source": [
    "from rdflib import Graph\n",
    "from rdflib.store import Store\n",
    "from rdflib_neo4j import Neo4jStore\n",
    "\n",
    "# Neo4j credentials\n",
    "uri = \"bolt://localhost:7687\"  # Default URI for Neo4j\n",
    "user = \"neo4j\"  # Your Neo4j username (usually \"neo4j\")\n",
    "password = \"password\"  # Your Neo4j password\n",
    "\n",
    "# Create the Neo4j store and connect to the Neo4j database\n",
    "store = Neo4jStore(user=user, password=password, url=uri)\n",
    "\n",
    "# Create an RDFLib graph and bind it to the Neo4j store\n",
    "g = Graph(store=store)\n"
   ]
  },
  {
   "cell_type": "code",
   "execution_count": null,
   "metadata": {
    "vscode": {
     "languageId": "plaintext"
    }
   },
   "outputs": [],
   "source": [
    "g.parse(\"path/to/yago-4.5.0.ttl\", format=\"turtle\")"
   ]
  }
 ],
 "metadata": {
  "language_info": {
   "name": "python"
  }
 },
 "nbformat": 4,
 "nbformat_minor": 2
}
