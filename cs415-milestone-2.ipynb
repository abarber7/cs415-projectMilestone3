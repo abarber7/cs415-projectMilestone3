{
 "cells": [
  {
   "cell_type": "markdown",
   "metadata": {},
   "source": [
    "# cs415 Milestone 2\n",
    "\n",
    "Within Neo4j Desktop, install the **Neosemantics (n10s)** plugin which enables Neo4j to store and query RDF data. Restart Neo4j after installing the plugin.\n",
    "\n",
    "Configure Neosemantics for RDF Import\n",
    "```\n",
    "// Create required n10s constraint\n",
    "CREATE CONSTRAINT n10s_unique_uri FOR (r:Resource) REQUIRE r.uri IS UNIQUE;\n",
    "\n",
    "// Install the Neosemantics procedures\n",
    "CALL n10s.graphconfig.init();\n",
    "```\n",
    "\n",
    "Upload YAGO Data into Neo4j\n",
    "```\n",
    "// Load YAGO TTL data into Neo4j\n",
    "CALL n10s.rdf.import.fetch(\"file:///path_to_yago_data/yago-4.5.0_ttl.ttl\", \"Turtle\");\n",
    "```\n",
    "\n",
    "Explore YAGO Data in Neo4j\n",
    "```\n",
    "MATCH (n) RETURN n LIMIT 10;\n",
    "\n",
    "MATCH (a)-[r]->(b) RETURN a, r, b LIMIT 10;\n",
    "```\n",
    "\n",
    "Optimize Data for Queries\n",
    "```\n",
    "CREATE INDEX ON :Entity(name);\n",
    "```\n",
    "\n",
    "---\n",
    "\n",
    "**Under here is a Python implementation to import the .ttl file into our Neo4j database. This currently fails during import but to my understanding, because of cache and RAM constraints on my local machine. It is included here to show the effort, and my be utilized in the future.**\n",
    "\n",
    "---\n",
    "\n",
    "Downloaded the YAGO 4.5 dataset. (https://yago-knowledge.org/data/yago4.5/)"
   ]
  },
  {
   "cell_type": "code",
   "execution_count": 1,
   "metadata": {},
   "outputs": [
    {
     "name": "stdout",
     "output_type": "stream",
     "text": [
      "Defaulting to user installation because normal site-packages is not writeable\n",
      "Requirement already satisfied: rdflib-neo4j in /Users/adams/Library/Python/3.9/lib/python/site-packages (1.1)\n",
      "Requirement already satisfied: rdflib>=7.0.0 in /Users/adams/Library/Python/3.9/lib/python/site-packages (from rdflib-neo4j) (7.0.0)\n",
      "Requirement already satisfied: neo4j>=5.0.0 in /Users/adams/Library/Python/3.9/lib/python/site-packages (from rdflib-neo4j) (5.25.0)\n",
      "Requirement already satisfied: pytz in /Users/adams/Library/Python/3.9/lib/python/site-packages (from neo4j>=5.0.0->rdflib-neo4j) (2024.2)\n",
      "Requirement already satisfied: isodate<0.7.0,>=0.6.0 in /Users/adams/Library/Python/3.9/lib/python/site-packages (from rdflib>=7.0.0->rdflib-neo4j) (0.6.1)\n",
      "Requirement already satisfied: pyparsing<4,>=2.1.0 in /Users/adams/Library/Python/3.9/lib/python/site-packages (from rdflib>=7.0.0->rdflib-neo4j) (3.1.4)\n",
      "Requirement already satisfied: six in /Library/Developer/CommandLineTools/Library/Frameworks/Python3.framework/Versions/3.9/lib/python3.9/site-packages (from isodate<0.7.0,>=0.6.0->rdflib>=7.0.0->rdflib-neo4j) (1.15.0)\n",
      "\n",
      "\u001b[1m[\u001b[0m\u001b[34;49mnotice\u001b[0m\u001b[1;39;49m]\u001b[0m\u001b[39;49m A new release of pip is available: \u001b[0m\u001b[31;49m24.0\u001b[0m\u001b[39;49m -> \u001b[0m\u001b[32;49m24.2\u001b[0m\n",
      "\u001b[1m[\u001b[0m\u001b[34;49mnotice\u001b[0m\u001b[1;39;49m]\u001b[0m\u001b[39;49m To update, run: \u001b[0m\u001b[32;49m/Library/Developer/CommandLineTools/usr/bin/python3 -m pip install --upgrade pip\u001b[0m\n",
      "Note: you may need to restart the kernel to use updated packages.\n"
     ]
    }
   ],
   "source": [
    "pip install rdflib-neo4j"
   ]
  },
  {
   "cell_type": "code",
   "execution_count": 2,
   "metadata": {},
   "outputs": [],
   "source": [
    "from rdflib import Namespace, Graph, URIRef, RDF, SKOS, Literal\n",
    "from rdflib_neo4j import Neo4jStore, Neo4jStoreConfig, HANDLE_VOCAB_URI_STRATEGY\n",
    "from neo4j import GraphDatabase"
   ]
  },
  {
   "cell_type": "code",
   "execution_count": 3,
   "metadata": {},
   "outputs": [
    {
     "name": "stdout",
     "output_type": "stream",
     "text": [
      "Connection established.\n"
     ]
    }
   ],
   "source": [
    "# Neo4j credentials\n",
    "URI = \"neo4j://localhost:7687\"\n",
    "AUTH = (\"neo4j\", \"12345678\")\n",
    "\n",
    "with GraphDatabase.driver(URI, auth=AUTH) as driver:\n",
    "    driver.verify_connectivity()\n",
    "    print(\"Connection established.\")"
   ]
  },
  {
   "cell_type": "code",
   "execution_count": 3,
   "metadata": {},
   "outputs": [
    {
     "name": "stdout",
     "output_type": "stream",
     "text": [
      "Uniqueness constraint on :Resource(uri) found. \n",
      "                \n",
      "                \n",
      "The store is now: Open\n"
     ]
    },
    {
     "ename": "",
     "evalue": "",
     "output_type": "error",
     "traceback": [
      "\u001b[1;31mThe Kernel crashed while executing code in the current cell or a previous cell. \n",
      "\u001b[1;31mPlease review the code in the cell(s) to identify a possible cause of the failure. \n",
      "\u001b[1;31mClick <a href='https://aka.ms/vscodeJupyterKernelCrash'>here</a> for more info. \n",
      "\u001b[1;31mView Jupyter <a href='command:jupyter.viewOutput'>log</a> for further details."
     ]
    },
    {
     "ename": "",
     "evalue": "",
     "output_type": "error",
     "traceback": [
      "\u001b[1;31mCanceled future for execute_request message before replies were done"
     ]
    },
    {
     "ename": "",
     "evalue": "",
     "output_type": "error",
     "traceback": [
      "\u001b[1;31mCanceled future for execute_request message before replies were done. \n",
      "\u001b[1;31mView Jupyter <a href='command:jupyter.viewOutput'>log</a> for further details."
     ]
    }
   ],
   "source": [
    "# Connect to Neo4j DB\n",
    "DB_URI=\"neo4j://localhost:7687\"\n",
    "DB_USERNAME=\"neo4j\"\n",
    "DB_PWD=\"12345678\"\n",
    "\n",
    "auth_data = {'uri': DB_URI,\n",
    "             'database': \"neo4j\",\n",
    "             'user': DB_USERNAME,\n",
    "             'pwd': DB_PWD}\n",
    "\n",
    "# Define your custom mappings & store config\n",
    "config = Neo4jStoreConfig(auth_data=auth_data,\n",
    "                          handle_vocab_uri_strategy=HANDLE_VOCAB_URI_STRATEGY.IGNORE,\n",
    "                          batching=True)\n",
    "\n",
    "file_path = '/Users/adams/wsu/cpts415/yago-4.5.0.2/yago-facts.ttl'\n",
    "\n",
    "# Create the RDF Graph, parse & ingest the data to Neo4j, and close the store(If the field batching is set to True in the Neo4jStoreConfig, remember to close the store to prevent the loss of any uncommitted records.)\n",
    "neo4j_aura = Graph(store=Neo4jStore(config=config))\n",
    "# Calling the parse method will implictly open the store\n",
    "neo4j_aura.parse(file_path, format=\"ttl\")\n",
    "neo4j_aura.close(True)"
   ]
  },
  {
   "cell_type": "markdown",
   "metadata": {},
   "source": [
    "The class below attempts to parse the .ttl file in batches. Currently it produces the same issue, but is a approach we can dive deeper into in the future."
   ]
  },
  {
   "cell_type": "code",
   "execution_count": 4,
   "metadata": {},
   "outputs": [
    {
     "ename": "",
     "evalue": "",
     "output_type": "error",
     "traceback": [
      "\u001b[1;31mThe Kernel crashed while executing code in the current cell or a previous cell. \n",
      "\u001b[1;31mPlease review the code in the cell(s) to identify a possible cause of the failure. \n",
      "\u001b[1;31mClick <a href='https://aka.ms/vscodeJupyterKernelCrash'>here</a> for more info. \n",
      "\u001b[1;31mView Jupyter <a href='command:jupyter.viewOutput'>log</a> for further details."
     ]
    },
    {
     "ename": "",
     "evalue": "",
     "output_type": "error",
     "traceback": [
      "\u001b[1;31mCanceled future for execute_request message before replies were done"
     ]
    },
    {
     "ename": "",
     "evalue": "",
     "output_type": "error",
     "traceback": [
      "\u001b[1;31mCanceled future for execute_request message before replies were done. \n",
      "\u001b[1;31mView Jupyter <a href='command:jupyter.viewOutput'>log</a> for further details."
     ]
    }
   ],
   "source": [
    "class Neo4jHandler:\n",
    "\n",
    "    def __init__(self, uri, user, password):\n",
    "        self.driver = GraphDatabase.driver(uri, auth=(user, password))\n",
    "\n",
    "    def close(self):\n",
    "        self.driver.close()\n",
    "\n",
    "    def add_triple_batch(self, triples):\n",
    "        with self.driver.session() as session:\n",
    "            session.write_transaction(self._create_triples, triples)\n",
    "\n",
    "    @staticmethod\n",
    "    def _create_triples(tx, triples):\n",
    "        for subj, pred, obj in triples:\n",
    "            query = \"\"\"\n",
    "            MERGE (s:Resource {uri: $subj})\n",
    "            MERGE (p:Resource {uri: $pred})\n",
    "            MERGE (o:Resource {uri: $obj})\n",
    "            CREATE (s)-[:RELATED_TO]->(o)\n",
    "            \"\"\"\n",
    "            tx.run(query, subj=str(subj), pred=str(pred), obj=str(obj))\n",
    "\n",
    "def batch_parse_and_ingest(file_path, batch_size=1000):\n",
    "    rdf_graph = Graph()\n",
    "    neo4j_handler = Neo4jHandler(\"bolt://localhost:7687\", \"neo4j\", \"12345678\")\n",
    "\n",
    "    triples = []\n",
    "    count = 0\n",
    "    for subj, pred, obj in rdf_graph.parse(file_path, format=\"ttl\"):\n",
    "        triples.append((subj, pred, obj))\n",
    "        count += 1\n",
    "\n",
    "        if count % batch_size == 0:\n",
    "            neo4j_handler.add_triple_batch(triples)\n",
    "            print(f\"Processed {count} triples\")\n",
    "            triples = []  # Clear the batch after committing\n",
    "\n",
    "    if triples:\n",
    "        neo4j_handler.add_triple_batch(triples)\n",
    "        print(f\"Processed {count} triples (final batch)\")\n",
    "\n",
    "    neo4j_handler.close()\n",
    "\n",
    "file_path = '/Users/adams/wsu/cpts415/yago-4.5.0.2/yago-facts.ttl'\n",
    "batch_parse_and_ingest(file_path, batch_size=1000)"
   ]
  }
 ],
 "metadata": {
  "kernelspec": {
   "display_name": "Python 3 (ipykernel)",
   "language": "python",
   "name": "python3"
  },
  "language_info": {
   "codemirror_mode": {
    "name": "ipython",
    "version": 3
   },
   "file_extension": ".py",
   "mimetype": "text/x-python",
   "name": "python",
   "nbconvert_exporter": "python",
   "pygments_lexer": "ipython3",
   "version": "3.9.6"
  }
 },
 "nbformat": 4,
 "nbformat_minor": 4
}
